{
 "cells": [
  {
   "cell_type": "code",
   "execution_count": 2,
   "metadata": {},
   "outputs": [],
   "source": [
    "import torch\n",
    "import torch.nn as nn\n",
    "import torch.nn.init as init\n",
    "import torch.nn.functional as F"
   ]
  },
  {
   "cell_type": "markdown",
   "metadata": {},
   "source": [
    "### model architecture"
   ]
  },
  {
   "cell_type": "code",
   "execution_count": 14,
   "metadata": {},
   "outputs": [],
   "source": [
    "class GenericQNetwork(nn.Module):\n",
    "\n",
    "    def __init__(self, input_size, output_size, channels):\n",
    "        super().__init__()\n",
    "        # first convolutional layer values\n",
    "        self.nb_filters_l1 = 32\n",
    "        self.size_filters_l1 = 8\n",
    "        self.stride_l1 = 4\n",
    "\n",
    "        # second convolutional layer values\n",
    "        self.nb_filters_l2 = 64\n",
    "        self.size_filters_l2 = 4\n",
    "        self.stride_l2 = 2\n",
    "\n",
    "        # first linear layer values\n",
    "        self.ffn1 = 512\n",
    "\n",
    "        # output linear layer values\n",
    "        self.nb_actions = output_size\n",
    "        \n",
    "        self.nb_channels = channels\n",
    "        self.image_size = input_size\n",
    "\n",
    "        self.conv_layer1 = nn.Parameter(torch.randn((self.nb_filters_l1, self.nb_channels, self.size_filters_l1, self.size_filters_l1), dtype=torch.float32), requires_grad=True)\n",
    "        self.bias_layer1 = nn.Parameter(torch.zeros((self.nb_filters_l1,), dtype=torch.float32), requires_grad=True)\n",
    "        init.kaiming_normal_(self.conv_layer1, nonlinearity=\"relu\")\n",
    "        self.conv_layer2 = nn.Parameter(torch.randn((self.nb_filters_l2, self.nb_filters_l1, self.size_filters_l2, self.size_filters_l2), dtype=torch.float32), requires_grad=True)\n",
    "        self.bias_layer2 = nn.Parameter(torch.zeros((self.nb_filters_l2,), dtype=torch.float32), requires_grad=True)\n",
    "        init.kaiming_normal_(self.conv_layer2, nonlinearity=\"relu\")\n",
    "\n",
    "        test_input = torch.randn(1, self.nb_channels, self.image_size, self.image_size)\n",
    "        with torch.no_grad():\n",
    "            self.conv1_output = F.conv2d(test_input, self.conv_layer1, stride=self.stride_l1)\n",
    "            self.conv2_output = F.conv2d(self.conv1_output, self.conv_layer2, stride=self.stride_l2)\n",
    "            _, _, height, width = self.conv2_output.size()\n",
    "            self.ffn_size = self.nb_filters_l2 * height * width\n",
    "\n",
    "        self.ffn_layer = nn.Parameter(torch.randn((self.ffn_size, self.ffn1), dtype=torch.float32), requires_grad=True)\n",
    "        init.kaiming_normal_(self.ffn_layer, nonlinearity=\"relu\")\n",
    "        self.ffn_bias = nn.Parameter(torch.zeros((1, self.ffn1), dtype=torch.float32), requires_grad=True)\n",
    "\n",
    "        self.output_layer = nn.Parameter(torch.randn((self.ffn1, self.nb_actions), dtype=torch.float32), requires_grad=True)\n",
    "        init.kaiming_normal_(self.output_layer, nonlinearity=\"relu\")\n",
    "        self.output_bias = nn.Parameter(torch.zeros((1, self.nb_actions), dtype=torch.float32), requires_grad=True)\n",
    "\n",
    "    def forward(self, x):\n",
    "        x = F.conv2d(x, self.conv_layer1, bias=self.bias_layer1, stride=self.stride_l1)\n",
    "        x = F.relu(x)\n",
    "        x = F.conv2d(x, self.conv_layer2, bias=self.bias_layer2, stride=self.stride_l2)\n",
    "        x = F.relu(x)\n",
    "        x = x.view(-1, self.ffn_size)\n",
    "        x = torch.matmul(x, self.ffn_layer) + self.ffn_bias\n",
    "        x = F.relu(x)\n",
    "        x = torch.matmul(x, self.output_layer) + self.output_bias\n",
    "        return x"
   ]
  },
  {
   "cell_type": "code",
   "execution_count": 15,
   "metadata": {},
   "outputs": [],
   "source": [
    "class QNetwork(GenericQNetwork):\n",
    "\n",
    "    def __init__(self, input_size, output_size, channels):\n",
    "        super().__init__(input_size, output_size, channels)\n",
    "\n",
    "class QTargetNetwork(GenericQNetwork):\n",
    "\n",
    "    def __init__(self, input_size, output_size, channels):\n",
    "        super().__init__(input_size, output_size, channels)"
   ]
  },
  {
   "cell_type": "code",
   "execution_count": 19,
   "metadata": {},
   "outputs": [],
   "source": [
    "test = torch.randn((6, 4, 84, 84), dtype=torch.float32)\n",
    "q = QNetwork(84, 3, 4)\n",
    "output = q.forward(test)"
   ]
  },
  {
   "cell_type": "code",
   "execution_count": 20,
   "metadata": {},
   "outputs": [
    {
     "data": {
      "text/plain": [
       "torch.Size([6, 3])"
      ]
     },
     "execution_count": 20,
     "metadata": {},
     "output_type": "execute_result"
    }
   ],
   "source": [
    "output.size()"
   ]
  },
  {
   "cell_type": "markdown",
   "metadata": {},
   "source": [
    "### loss function"
   ]
  },
  {
   "cell_type": "code",
   "execution_count": 29,
   "metadata": {},
   "outputs": [],
   "source": [
    "def compute_loss(logits, y):\n",
    "    softmax = F.softmax(logits, dim=1)\n",
    "    loss = F.mse_loss(softmax, y)\n",
    "    return loss.item()"
   ]
  },
  {
   "cell_type": "code",
   "execution_count": 30,
   "metadata": {},
   "outputs": [
    {
     "data": {
      "text/plain": [
       "2.1491763591766357"
      ]
     },
     "execution_count": 30,
     "metadata": {},
     "output_type": "execute_result"
    }
   ],
   "source": [
    "test_gt = torch.randn((6, 3), dtype=torch.float32)\n",
    "test_pred = torch.randn((6, 3), dtype=torch.float32)\n",
    "\n",
    "compute_loss(test_pred, test_gt)"
   ]
  },
  {
   "cell_type": "code",
   "execution_count": null,
   "metadata": {},
   "outputs": [],
   "source": []
  }
 ],
 "metadata": {
  "kernelspec": {
   "display_name": "dl_env",
   "language": "python",
   "name": "python3"
  },
  "language_info": {
   "codemirror_mode": {
    "name": "ipython",
    "version": 3
   },
   "file_extension": ".py",
   "mimetype": "text/x-python",
   "name": "python",
   "nbconvert_exporter": "python",
   "pygments_lexer": "ipython3",
   "version": "3.13.2"
  }
 },
 "nbformat": 4,
 "nbformat_minor": 2
}
